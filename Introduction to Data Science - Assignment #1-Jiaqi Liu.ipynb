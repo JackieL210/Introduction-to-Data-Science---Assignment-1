{
 "cells": [
  {
   "cell_type": "markdown",
   "id": "23a203ca",
   "metadata": {},
   "source": [
    "# Assignment #1"
   ]
  },
  {
   "cell_type": "markdown",
   "id": "700669c0",
   "metadata": {},
   "source": [
    "1. Make two list's one of clothing items and accesories such as shirts, shorts, jeans etc and another list of atleast five colours such as red, white etc.\n",
    "\n",
    "\n",
    "2. Write a nested loop printing out each clothing item and accessory in every colour with the string statment \n",
    "- 'item from list of clothing item' are of 'colour from list of colour'. \n",
    "- Example statment \"shirts are of white colour\", \"shirts are of red colour\""
   ]
  },
  {
   "cell_type": "markdown",
   "id": "f745fab0",
   "metadata": {},
   "source": [
    "# Solution "
   ]
  },
  {
   "cell_type": "code",
   "execution_count": 2,
   "id": "c7444015",
   "metadata": {
    "scrolled": true
   },
   "outputs": [
    {
     "name": "stdout",
     "output_type": "stream",
     "text": [
      "['shirts', 'shorts', 'jeans', 'dress', 'skirts', 'hats']\n"
     ]
    }
   ],
   "source": [
    "Clothing_items = [\"shirts\", \"shorts\", \"jeans\", \"dress\", \"skirts\", \"hats\"]\n",
    "print(Clothing_items)"
   ]
  },
  {
   "cell_type": "code",
   "execution_count": 24,
   "id": "83af68df",
   "metadata": {},
   "outputs": [
    {
     "name": "stdout",
     "output_type": "stream",
     "text": [
      "shirts\n",
      "shorts\n",
      "jeans\n",
      "dress\n",
      "skirts\n",
      "hats\n"
     ]
    }
   ],
   "source": [
    "Clothing_items = [[\"shirts\"], [\"shorts\"], [\"jeans\"], [\"dress\"], [\"skirts\"], [\"hats\"]]\n",
    "for items in Clothing_items:\n",
    "    for item in items:\n",
    "        print(item)"
   ]
  },
  {
   "cell_type": "code",
   "execution_count": 28,
   "id": "fda40231",
   "metadata": {},
   "outputs": [
    {
     "name": "stdout",
     "output_type": "stream",
     "text": [
      "green\n",
      "pink\n",
      "black\n",
      "blue\n",
      "yellow\n"
     ]
    }
   ],
   "source": [
    "colors = [[\"green\"], [\"pink\"], [\"black\"], [\"blue\"], [\"yellow\"]]\n",
    "for color in colors:\n",
    "    for one in color:\n",
    "        print(one)"
   ]
  },
  {
   "cell_type": "code",
   "execution_count": 34,
   "id": "af563a16",
   "metadata": {},
   "outputs": [
    {
     "name": "stdout",
     "output_type": "stream",
     "text": [
      "shirts are of green\n",
      "shirts are of pink\n",
      "shirts are of black\n",
      "shirts are of blue\n",
      "shirts are of yellow\n",
      "shorts are of green\n",
      "shorts are of pink\n",
      "shorts are of black\n",
      "shorts are of blue\n",
      "shorts are of yellow\n",
      "jeans are of green\n",
      "jeans are of pink\n",
      "jeans are of black\n",
      "jeans are of blue\n",
      "jeans are of yellow\n",
      "dress are of green\n",
      "dress are of pink\n",
      "dress are of black\n",
      "dress are of blue\n",
      "dress are of yellow\n",
      "skirts are of green\n",
      "skirts are of pink\n",
      "skirts are of black\n",
      "skirts are of blue\n",
      "skirts are of yellow\n",
      "hats are of green\n",
      "hats are of pink\n",
      "hats are of black\n",
      "hats are of blue\n",
      "hats are of yellow\n"
     ]
    }
   ],
   "source": [
    "Clothing_items = [\"shirts\", \"shorts\", \"jeans\", \"dress\", \"skirts\", \"hats\"]\n",
    "colors = [\"green\", \"pink\", \"black\", \"blue\", \"yellow\"]\n",
    "for item in Clothing_items:\n",
    "    for color in colors:\n",
    "        \n",
    "        print(item + \" are of \" + color)"
   ]
  }
 ],
 "metadata": {
  "kernelspec": {
   "display_name": "Python 3 (ipykernel)",
   "language": "python",
   "name": "python3"
  },
  "language_info": {
   "codemirror_mode": {
    "name": "ipython",
    "version": 3
   },
   "file_extension": ".py",
   "mimetype": "text/x-python",
   "name": "python",
   "nbconvert_exporter": "python",
   "pygments_lexer": "ipython3",
   "version": "3.9.12"
  }
 },
 "nbformat": 4,
 "nbformat_minor": 5
}
